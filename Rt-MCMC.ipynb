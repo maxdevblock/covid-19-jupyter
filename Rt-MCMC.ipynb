{
 "cells": [
  {
   "cell_type": "code",
   "execution_count": 1,
   "metadata": {},
   "outputs": [
    {
     "name": "stdout",
     "output_type": "stream",
     "text": [
      "2020-08-30 16:46:22.227352\n"
     ]
    }
   ],
   "source": [
    "import numpy as np\n",
    "import pandas as pd\n",
    "import matplotlib.pyplot as plt\n",
    "from matplotlib import dates as mdates\n",
    "from matplotlib import ticker\n",
    "import scipy.stats as sps\n",
    "import datetime as dt\n",
    "\n",
    "import pickle\n",
    "\n",
    "import arviz as az\n",
    "import pyjags\n",
    "\n",
    "from IPython.display import HTML, Latex, Markdown, clear_output\n",
    "\n",
    "start = dt.datetime.now()\n",
    "print(start)"
   ]
  },
  {
   "cell_type": "code",
   "execution_count": 2,
   "metadata": {},
   "outputs": [],
   "source": [
    "# find and fix outliers using Hampel filter\n",
    "# Impl from: https://towardsdatascience.com/outlier-detection-with-hampel-filter-85ddf523c73d\n",
    "\n",
    "def hampel_filter_pandas(input_series, window_size, n_sigmas=3.0):\n",
    "\n",
    "    k = 1.4826 # scale factor for Gaussian distribution\n",
    "    new_series = input_series.copy()\n",
    "\n",
    "    # helper lambda function \n",
    "    MAD = lambda x: np.median(np.abs(x - np.median(x)))\n",
    "    \n",
    "    # the use of min_periods is to have rolling window extend towards\n",
    "    # the end of the data series; in effect, we can apply hampel filter\n",
    "    # to most recent observations\n",
    "    # taken from: https://stackoverflow.com/questions/48953313/pandas-rolling-window-boundary-on-start-end-of-series/48953314#48953314\n",
    "    rolling_window_size = 2*window_size+1\n",
    "    rolling_median = input_series.rolling(\n",
    "        window=rolling_window_size,\n",
    "        min_periods=(rolling_window_size//2),\n",
    "        center=True).median()\n",
    "    rolling_mad = k * input_series.rolling(\n",
    "        window=rolling_window_size,\n",
    "        min_periods=(rolling_window_size//2),\n",
    "        center=True).apply(MAD)\n",
    "    # print(f'rolling_mad = {rolling_mad}, rolling_median = {rolling_median}')\n",
    "    diff = np.abs(input_series - rolling_median)\n",
    "    \n",
    "    where = diff > (n_sigmas * rolling_mad)\n",
    "    indices = np.argwhere(where.to_numpy()).flatten()\n",
    "    new_series[indices] = rolling_median[indices]\n",
    "    \n",
    "    return new_series, indices"
   ]
  },
  {
   "cell_type": "markdown",
   "metadata": {},
   "source": [
    "# Italy COVID-19 Rt estimation with MCMC\n",
    "\n",
    "A simple method is presented to estimate effective reproduction number $R_t$ of COVID-19 in italian regions with a Markov chain Monte Carlo and Poisson likelihood parametrized on daily new cases."
   ]
  },
  {
   "cell_type": "markdown",
   "metadata": {},
   "source": [
    "The jupyter notebook backend is available at [GitHub](https://github.com/maxdevblock/COVID-Rt-MCMC).\n",
    "\n",
    "Method and MCMC diagnostics are available at [PDF](https://maxpierini.it/ncov/Rt-MCMC.pdf)."
   ]
  },
  {
   "cell_type": "markdown",
   "metadata": {},
   "source": [
    "***"
   ]
  },
  {
   "cell_type": "code",
   "execution_count": 3,
   "metadata": {},
   "outputs": [],
   "source": [
    "SI_mu = 7.5\n",
    "SI_sd = 3.4"
   ]
  },
  {
   "cell_type": "code",
   "execution_count": 4,
   "metadata": {},
   "outputs": [
    {
     "data": {
      "image/png": "[encoded data removed]",
      "text/plain": [
       "<Figure size 864x216 with 1 Axes>"
      ]
     },
     "metadata": {
      "needs_background": "light"
     },
     "output_type": "display_data"
    }
   ],
   "source": [
    "shape = SI_mu**2 / SI_sd**2 \n",
    "scale = SI_sd**2 / SI_mu\n",
    "SI_dist = sps.gamma(a=shape, scale=scale)\n",
    "SI_x = np.linspace(SI_dist.ppf(0), SI_dist.ppf(.999), 100)\n",
    "SI_y = SI_dist.pdf(SI_x)\n",
    "\n",
    "omega = SI_x[SI_y.argmax()]\n",
    "mean = SI_dist.stats(moments=\"m\")\n",
    "\n",
    "fig, ax = plt.subplots(figsize=(12, 3))\n",
    "ax.plot(SI_x, SI_y)\n",
    "ax.axvline(omega, c=\"r\", ls=\":\", label=f\"mode {omega:.1f} days\")\n",
    "ax.axvline(mean, c=\"g\", ls=\"--\", label=f\"mean {mean:.1f} days\")\n",
    "\n",
    "ax.legend()\n",
    "ax.axhline(0, c=\"k\", alpha=.2)\n",
    "ax.set_xlim(0, SI_x.max())\n",
    "ax.set_yticks([])\n",
    "ax.set_xlabel(\"days\")\n",
    "ax.set_title(fr\"COVID-19 $\\mathbf{{SI}}$ serial interval Gamma distribution ($\\mu={SI_mu}$ $\\sigma={SI_sd}$)\")\n",
    "plt.show();"
   ]
  },
  {
   "cell_type": "code",
   "execution_count": 5,
   "metadata": {},
   "outputs": [],
   "source": [
    "adapt = 500\n",
    "warmup = 1000\n",
    "sample = 1000"
   ]
  },
  {
   "cell_type": "code",
   "execution_count": 6,
   "metadata": {},
   "outputs": [],
   "source": [
    "df = pd.read_csv(\n",
    "    \"https://raw.githubusercontent.com/pcm-dpc/COVID-19/master/dati-regioni/dpc-covid19-ita-regioni.csv\",\n",
    "     usecols=['data', 'denominazione_regione', 'nuovi_positivi'],\n",
    "     parse_dates=['data'],\n",
    "     index_col=['denominazione_regione', 'data'],\n",
    "     squeeze=True).sort_index()\n",
    "\n",
    "countries = df.index.get_level_values(\"denominazione_regione\").unique().sort_values()\n",
    "days = df.index.get_level_values(\"data\").unique()"
   ]
  },
  {
   "cell_type": "code",
   "execution_count": 7,
   "metadata": {},
   "outputs": [],
   "source": [
    "it = pd.read_csv(\n",
    "    \"https://raw.githubusercontent.com/pcm-dpc/COVID-19/master/dati-andamento-nazionale/dpc-covid19-ita-andamento-nazionale.csv\",\n",
    "     usecols=['data', 'nuovi_positivi'],\n",
    "     parse_dates=['data'],\n",
    "     index_col=['data'],\n",
    "     squeeze=True).sort_index()"
   ]
  },
  {
   "cell_type": "code",
   "execution_count": 8,
   "metadata": {},
   "outputs": [],
   "source": [
    "pos_it_raw = it\n",
    "pos_it_flt, _ = hampel_filter_pandas(pos_it_raw, 7, n_sigmas=2.0)\n",
    "\n",
    "pos_it_smt = pos_it_flt.rolling(14,\n",
    "                win_type='gaussian',\n",
    "                min_periods=1,\n",
    "                center=True).mean(std=5).round()\n",
    "pos_it_smt[pos_it_smt<0] = 0\n",
    "\n",
    "####################\n",
    "\n",
    "pos_Y_raw = np.ndarray(shape=(countries.size, days.size))\n",
    "pos_Y_flt = np.ndarray(shape=(countries.size, days.size))\n",
    "pos_Y_smt = np.ndarray(shape=(countries.size, days.size))\n",
    "\n",
    "for r, region in enumerate(countries):\n",
    "\n",
    "    pos_y_raw = df.loc[region]\n",
    "    pos_y_flt, _ = hampel_filter_pandas(pos_y_raw, 7, n_sigmas=2.0)\n",
    "    pos_y_smt = pos_y_flt.rolling(14,\n",
    "                win_type='gaussian',\n",
    "                min_periods=1,\n",
    "                center=True).mean(std=5).round()\n",
    "    pos_y_smt[pos_y_smt<0] = 0\n",
    "    \n",
    "    pos_Y_raw[r] = pos_y_raw.values\n",
    "    pos_Y_flt[r] = pos_y_flt.values\n",
    "    pos_Y_smt[r] = pos_y_smt.values\n",
    "    \n",
    "model_data = {\n",
    "    \"y\": pos_it_smt,\n",
    "    \"k\": pos_it_smt,\n",
    "    \"yR\": pos_Y_smt,\n",
    "    \"kR\": pos_Y_smt,\n",
    "    \"C\": countries.size,\n",
    "    \"T\": days.size\n",
    "}"
   ]
  },
  {
   "cell_type": "code",
   "execution_count": 9,
   "metadata": {},
   "outputs": [],
   "source": [
    "modelString = f\"\"\"\n",
    "model {{\n",
    "    # Overarching Rt standard deviation\n",
    "    tau_R ~ dgamma( 1000 , 100 )\n",
    "    sigma_R <- 1 / sqrt( tau_R )\n",
    "\n",
    "    # Serial interval distribution\n",
    "    SI_mu <- {SI_mu}\n",
    "    SI_sd <- {SI_sd}\n",
    "    SI_sh <- SI_mu^2 / SI_sd^2\n",
    "    SI_ra <- SI_mu / SI_sd^2\n",
    "    SI ~ dgamma( SI_sh , SI_ra )\n",
    "    gamma <- 1 / SI\n",
    "    \n",
    "    for ( r in 1:C ) {{\n",
    "        # First Rt prior\n",
    "        RR[r,1] <- 0\n",
    "        for ( t in 2:T ) {{\n",
    "            # Rt prior for k>0\n",
    "            RRpr[r,t] ~ dnorm( RR[r,t-1] , tau_R )  T(0,)\n",
    "            # Rt prior for k=0\n",
    "            RRnu[r,t] ~ dnorm( 0 , tau_R )  T(0,)\n",
    "\n",
    "            # Define Rt prior\n",
    "            RR[r,t] <- ifelse( kR[r,t-1]==0 , RRnu[r,t] , RRpr[r,t] )\n",
    "            # Avoid k=0 (undefined Rt)\n",
    "            KR[r,t] <- ifelse( kR[r,t-1]==0, 1 , kR[r,t-1] )\n",
    "\n",
    "            # Poisson likelihood\n",
    "            lambdaR[r,t] <- KR[r,t] * exp( gamma * ( RR[r,t] - 1 ) )\n",
    "            yR[r,t] ~ dpois( lambdaR[r,t] )\n",
    "        }}\n",
    "    }}\n",
    "    \n",
    "    # First Rt prior\n",
    "    R[1] <- 0\n",
    "    for ( t in 2:T ) {{\n",
    "        # Rt prior for k>0\n",
    "        Rpr[t] ~ dnorm( R[t-1] , tau_R )  T(0,)\n",
    "        # Rt prior for k=0\n",
    "        Rnu[t] ~ dnorm( 0 , tau_R )  T(0,)\n",
    "\n",
    "        # Define Rt prior\n",
    "        R[t] <- ifelse( k[t-1]==0 , Rnu[t] , Rpr[t] )\n",
    "        # Avoid k=0 (undefined Rt)\n",
    "        K[t] <- ifelse( k[t-1]==0, 1 , k[t-1] )\n",
    "\n",
    "        # Poisson likelihood\n",
    "        lambda[t] <- K[t] * exp( gamma * ( R[t] - 1 ) )\n",
    "        y[t] ~ dpois( lambda[t] )\n",
    "    }}\n",
    "    \n",
    "}}\n",
    "\"\"\""
   ]
  },
  {
   "cell_type": "code",
   "execution_count": 10,
   "metadata": {
    "scrolled": false
   },
   "outputs": [
    {
     "ename": "KeyboardInterrupt",
     "evalue": "",
     "output_type": "error",
     "traceback": [
      "\u001b[0;31m---------------------------------------------------------------------------\u001b[0m",
      "\u001b[0;31mKeyboardInterrupt\u001b[0m                         Traceback (most recent call last)",
      "\u001b[0;32m<ipython-input-10-06eb61141496>\u001b[0m in \u001b[0;36m<module>\u001b[0;34m\u001b[0m\n\u001b[1;32m      7\u001b[0m )\n\u001b[1;32m      8\u001b[0m \u001b[0;34m\u001b[0m\u001b[0m\n\u001b[0;32m----> 9\u001b[0;31m \u001b[0mjags_posteriors\u001b[0m \u001b[0;34m=\u001b[0m \u001b[0mjags_model\u001b[0m\u001b[0;34m.\u001b[0m\u001b[0msample\u001b[0m\u001b[0;34m(\u001b[0m\u001b[0mwarmup\u001b[0m \u001b[0;34m+\u001b[0m \u001b[0msample\u001b[0m\u001b[0;34m,\u001b[0m \u001b[0mvars\u001b[0m\u001b[0;34m=\u001b[0m\u001b[0;34m[\u001b[0m\u001b[0;34m\"R\"\u001b[0m\u001b[0;34m,\u001b[0m \u001b[0;34m\"RR\"\u001b[0m\u001b[0;34m,\u001b[0m \u001b[0;34m\"sigma_R\"\u001b[0m\u001b[0;34m,\u001b[0m \u001b[0;34m\"tau_R\"\u001b[0m\u001b[0;34m]\u001b[0m\u001b[0;34m)\u001b[0m\u001b[0;34m\u001b[0m\u001b[0;34m\u001b[0m\u001b[0m\n\u001b[0m",
      "\u001b[0;32m~/anaconda3/envs/covid/lib/python3.8/site-packages/pyjags/model.py\u001b[0m in \u001b[0;36msample\u001b[0;34m(self, iterations, vars, thin, monitor_type)\u001b[0m\n\u001b[1;32m    411\u001b[0m                 \u001b[0mself\u001b[0m\u001b[0;34m.\u001b[0m\u001b[0mconsole\u001b[0m\u001b[0;34m.\u001b[0m\u001b[0msetMonitor\u001b[0m\u001b[0;34m(\u001b[0m\u001b[0mname\u001b[0m\u001b[0;34m,\u001b[0m \u001b[0mthin\u001b[0m\u001b[0;34m,\u001b[0m \u001b[0mmonitor_type\u001b[0m\u001b[0;34m)\u001b[0m\u001b[0;34m\u001b[0m\u001b[0;34m\u001b[0m\u001b[0m\n\u001b[1;32m    412\u001b[0m                 \u001b[0mmonitored\u001b[0m\u001b[0;34m.\u001b[0m\u001b[0mappend\u001b[0m\u001b[0;34m(\u001b[0m\u001b[0mname\u001b[0m\u001b[0;34m)\u001b[0m\u001b[0;34m\u001b[0m\u001b[0;34m\u001b[0m\u001b[0m\n\u001b[0;32m--> 413\u001b[0;31m             \u001b[0mself\u001b[0m\u001b[0;34m.\u001b[0m\u001b[0m_update\u001b[0m\u001b[0;34m(\u001b[0m\u001b[0miterations\u001b[0m\u001b[0;34m,\u001b[0m \u001b[0;34m'sampling: '\u001b[0m\u001b[0;34m)\u001b[0m\u001b[0;34m\u001b[0m\u001b[0;34m\u001b[0m\u001b[0m\n\u001b[0m\u001b[1;32m    414\u001b[0m             \u001b[0msamples\u001b[0m \u001b[0;34m=\u001b[0m \u001b[0mself\u001b[0m\u001b[0;34m.\u001b[0m\u001b[0mconsole\u001b[0m\u001b[0;34m.\u001b[0m\u001b[0mdumpMonitors\u001b[0m\u001b[0;34m(\u001b[0m\u001b[0mmonitor_type\u001b[0m\u001b[0;34m,\u001b[0m \u001b[0;32mFalse\u001b[0m\u001b[0;34m)\u001b[0m\u001b[0;34m\u001b[0m\u001b[0;34m\u001b[0m\u001b[0m\n\u001b[1;32m    415\u001b[0m             \u001b[0msamples\u001b[0m \u001b[0;34m=\u001b[0m \u001b[0mdict_from_jags\u001b[0m\u001b[0;34m(\u001b[0m\u001b[0msamples\u001b[0m\u001b[0;34m)\u001b[0m\u001b[0;34m\u001b[0m\u001b[0;34m\u001b[0m\u001b[0m\n",
      "\u001b[0;32m~/anaconda3/envs/covid/lib/python3.8/site-packages/pyjags/model.py\u001b[0m in \u001b[0;36m_update\u001b[0;34m(self, iterations, header)\u001b[0m\n\u001b[1;32m    343\u001b[0m \u001b[0;34m\u001b[0m\u001b[0m\n\u001b[1;32m    344\u001b[0m         \u001b[0;32mwith\u001b[0m \u001b[0mself\u001b[0m\u001b[0;34m.\u001b[0m\u001b[0mprogress_bar\u001b[0m\u001b[0;34m(\u001b[0m\u001b[0mself\u001b[0m\u001b[0;34m.\u001b[0m\u001b[0mchains\u001b[0m \u001b[0;34m*\u001b[0m \u001b[0miterations\u001b[0m\u001b[0;34m,\u001b[0m \u001b[0mheader\u001b[0m\u001b[0;34m=\u001b[0m\u001b[0mheader\u001b[0m\u001b[0;34m)\u001b[0m \u001b[0;32mas\u001b[0m \u001b[0mpb\u001b[0m\u001b[0;34m:\u001b[0m\u001b[0;34m\u001b[0m\u001b[0;34m\u001b[0m\u001b[0m\n\u001b[0;32m--> 345\u001b[0;31m             \u001b[0mmethod\u001b[0m\u001b[0;34m(\u001b[0m\u001b[0mpb\u001b[0m\u001b[0;34m,\u001b[0m \u001b[0miterations\u001b[0m\u001b[0;34m)\u001b[0m\u001b[0;34m\u001b[0m\u001b[0;34m\u001b[0m\u001b[0m\n\u001b[0m\u001b[1;32m    346\u001b[0m \u001b[0;34m\u001b[0m\u001b[0m\n\u001b[1;32m    347\u001b[0m     \u001b[0;32mdef\u001b[0m \u001b[0m_update_sequential\u001b[0m\u001b[0;34m(\u001b[0m\u001b[0mself\u001b[0m\u001b[0;34m,\u001b[0m \u001b[0mprogress\u001b[0m\u001b[0;34m,\u001b[0m \u001b[0miterations\u001b[0m\u001b[0;34m)\u001b[0m\u001b[0;34m:\u001b[0m\u001b[0;34m\u001b[0m\u001b[0;34m\u001b[0m\u001b[0m\n",
      "\u001b[0;32m~/anaconda3/envs/covid/lib/python3.8/site-packages/pyjags/model.py\u001b[0m in \u001b[0;36m_update_sequential\u001b[0;34m(self, progress, iterations)\u001b[0m\n\u001b[1;32m    347\u001b[0m     \u001b[0;32mdef\u001b[0m \u001b[0m_update_sequential\u001b[0m\u001b[0;34m(\u001b[0m\u001b[0mself\u001b[0m\u001b[0;34m,\u001b[0m \u001b[0mprogress\u001b[0m\u001b[0;34m,\u001b[0m \u001b[0miterations\u001b[0m\u001b[0;34m)\u001b[0m\u001b[0;34m:\u001b[0m\u001b[0;34m\u001b[0m\u001b[0;34m\u001b[0m\u001b[0m\n\u001b[1;32m    348\u001b[0m         \u001b[0;32mfor\u001b[0m \u001b[0msteps\u001b[0m \u001b[0;32min\u001b[0m \u001b[0mconst_time_partition\u001b[0m\u001b[0;34m(\u001b[0m\u001b[0miterations\u001b[0m\u001b[0;34m,\u001b[0m \u001b[0mself\u001b[0m\u001b[0;34m.\u001b[0m\u001b[0mrefresh_seconds\u001b[0m\u001b[0;34m)\u001b[0m\u001b[0;34m:\u001b[0m\u001b[0;34m\u001b[0m\u001b[0;34m\u001b[0m\u001b[0m\n\u001b[0;32m--> 349\u001b[0;31m             \u001b[0mself\u001b[0m\u001b[0;34m.\u001b[0m\u001b[0mconsole\u001b[0m\u001b[0;34m.\u001b[0m\u001b[0mupdate\u001b[0m\u001b[0;34m(\u001b[0m\u001b[0msteps\u001b[0m\u001b[0;34m)\u001b[0m\u001b[0;34m\u001b[0m\u001b[0;34m\u001b[0m\u001b[0m\n\u001b[0m\u001b[1;32m    350\u001b[0m             \u001b[0mprogress\u001b[0m\u001b[0;34m.\u001b[0m\u001b[0mupdate\u001b[0m\u001b[0;34m(\u001b[0m\u001b[0mself\u001b[0m\u001b[0;34m.\u001b[0m\u001b[0mchains\u001b[0m \u001b[0;34m*\u001b[0m \u001b[0msteps\u001b[0m\u001b[0;34m)\u001b[0m\u001b[0;34m\u001b[0m\u001b[0;34m\u001b[0m\u001b[0m\n\u001b[1;32m    351\u001b[0m \u001b[0;34m\u001b[0m\u001b[0m\n",
      "\u001b[0;31mKeyboardInterrupt\u001b[0m: "
     ]
    }
   ],
   "source": [
    "jags_model = pyjags.Model(\n",
    "    code=modelString, \n",
    "    data=model_data,\n",
    "    chains=4, \n",
    "    adapt=adapt,\n",
    "    progress_bar=False\n",
    ")\n",
    "\n",
    "jags_posteriors = jags_model.sample(warmup + sample, vars=[\"R\", \"RR\", \"sigma_R\", \"tau_R\"])"
   ]
  },
  {
   "cell_type": "code",
   "execution_count": null,
   "metadata": {
    "scrolled": false
   },
   "outputs": [],
   "source": [
    "percs = np.linspace(50, 99, 20)\n",
    "\n",
    "ymax = np.array([])\n",
    "uppers = np.ndarray(shape=(countries.size, len(percs), days.size))\n",
    "lowers = np.ndarray(shape=(countries.size, len(percs), days.size))\n",
    "means = np.ndarray(shape=(countries.size, days.size))\n",
    "for r, region in enumerate(countries):\n",
    "    \n",
    "    pyjags_data_test = az.from_pyjags({\"R\": jags_posteriors[\"RR\"][r]}, warmup_iterations=warmup, save_warmup=False)\n",
    "    summary = az.summary(pyjags_data_test, var_names=\"^R\", filter_vars=\"regex\", kind=\"stats\")\n",
    "    for i, p in enumerate(percs[::-1]):\n",
    "        upper = np.percentile(pyjags_data_test.posterior.R, p, axis=1)\n",
    "        upper = np.mean(upper, axis=0)\n",
    "        lower = np.percentile(pyjags_data_test.posterior.R, 100-p, axis=1)\n",
    "        lower = np.mean(lower, axis=0)\n",
    "        ymax = np.append(ymax, upper[2:].max())\n",
    "        uppers[r,i] = upper\n",
    "        lowers[r,i] = lower\n",
    "        means[r] = summary[\"mean\"]\n",
    "ymax = ymax.max()\n",
    "\n",
    "for r, region in enumerate(countries):\n",
    "        \n",
    "    display(Markdown(f\"# {region}\"))\n",
    "    \n",
    "    fig, ax = plt.subplots(2, 1, figsize=(15,7))\n",
    "\n",
    "    ax[1].plot(days, df.loc[region].values, 'ok:', lw=1, ms=2, label=\"observed\")\n",
    "    ax[1].plot(days, pos_Y_smt[r], label=\"filtered & smoothed\")\n",
    "    ax[1].axhline(0, c=\"k\", alpha=.2)\n",
    "    ax[1].set_xlim(days[0], days[-1])\n",
    "    ax[1].yaxis.set_ticks_position('both')\n",
    "    ax[1].tick_params(labelright=True)\n",
    "    ax[1].legend()\n",
    "    ax[1].set_title(f\"{region} new cases per day\")\n",
    "\n",
    "    steps = .4/(len(percs)-1)\n",
    "    for i, (upper, lower) in enumerate(zip(uppers[r], lowers[r])):\n",
    "        alpha = 1-(i*steps)-(.6*np.ceil(i/len(percs)))\n",
    "        ax[0].fill_between(days, np.zeros(lower.size), lower, color=\"w\", alpha=alpha)\n",
    "        ax[0].fill_between(days, upper, np.ones(lower.size)*12, color=\"w\", alpha=alpha)\n",
    "\n",
    "    ax[0].plot(days, means[r], c=\"k\", alpha=.25)\n",
    "\n",
    "    ax[0].hlines(np.arange(0, 12, .5), days[0], days[-1], color=\"k\", lw=1, alpha=.1)\n",
    "    ax[0].axhline(1, c=\"k\", ls=\":\", lw=1)\n",
    "\n",
    "    ax[0].fill_between(days, 1, 12, color=\"red\", zorder=0)\n",
    "    ax[0].fill_between(days, 0, 1, color=\"green\", zorder=0)\n",
    "\n",
    "    ax[0].set_xlim(days[0], days[-1])\n",
    "\n",
    "    ax[0].set_title(fr\"{region} $R_t$ (CIs: {percs[0]:.0f}%-{percs[-1]:.0f}%)\")\n",
    "    \n",
    "    ax[0].set_ylim(0, ymax)\n",
    "    ax[0].yaxis.set_ticks_position('both')\n",
    "    ax[0].tick_params(labelright=True)\n",
    "    \n",
    "    plt.show()\n",
    "    plt.close(fig=\"all\")\n",
    "    \n",
    "    display(Markdown(\"***\"))"
   ]
  },
  {
   "cell_type": "markdown",
   "metadata": {},
   "source": [
    "# Latest Rt"
   ]
  },
  {
   "cell_type": "code",
   "execution_count": null,
   "metadata": {},
   "outputs": [],
   "source": [
    "fig, ax = plt.subplots(figsize=(15,5))\n",
    "\n",
    "for r, region in enumerate(countries):\n",
    "    steps = .4/(len(percs)-1)\n",
    "    for i, (upper, lower) in enumerate(zip(uppers[r,:,-1], lowers[r,:,-1])):\n",
    "        alpha = 1-(i*steps)-(.6*np.ceil(i/len(percs)))\n",
    "        ax.fill_between([r*2,r*2+1], 1, 12, color=\"red\", zorder=0)\n",
    "        ax.fill_between([r*2,r*2+1], 0, 1, color=\"green\", zorder=0)\n",
    "        ax.fill_between(np.linspace(r*2,r*2+1,10), np.zeros(10), lower, color=\"w\", alpha=alpha)\n",
    "        ax.fill_between(np.linspace(r*2,r*2+1,10), upper, np.ones(10)*12, color=\"w\", alpha=alpha)\n",
    "    ax.plot(np.linspace(r*2,r*2+1,10), np.ones(10)*means[r][-1], color=\"w\", alpha=.9, zorder=100)\n",
    "\n",
    "ax.axhline(1, c=\"k\", ls=\":\", lw=1)\n",
    "ax.hlines(np.arange(2, 12, 1), -1, countries.size*2+1, lw=1, alpha=.2)\n",
    "ax.set_ylim(0, ymax)\n",
    "ax.set_xlim(-1, countries.size*2)\n",
    "ax.set_xticks(np.arange(.5, countries.size*2+.5, 2))\n",
    "ax.set_xticklabels(countries.values, rotation=90)\n",
    "ax.yaxis.set_ticks_position('both')\n",
    "ax.tick_params(labelright=True)\n",
    "ax.set_title(f\"Regions latest estimated $R_t$ {days[-1].date()} (CIs: {percs[0]:.0f}%-{percs[-1]:.0f}%)\")\n",
    "plt.show();"
   ]
  },
  {
   "cell_type": "markdown",
   "metadata": {},
   "source": [
    "# Italy"
   ]
  },
  {
   "cell_type": "code",
   "execution_count": null,
   "metadata": {},
   "outputs": [],
   "source": [
    "pyjags_data_tau = az.from_pyjags(\n",
    "    {\"tau_R\": jags_posteriors[\"tau_R\"]}, \n",
    "    warmup_iterations=warmup, save_warmup=False)\n",
    "\n",
    "summary_tau = az.summary(pyjags_data_tau)\n",
    "\n",
    "modelStringItaly = f\"\"\"\n",
    "model {{\n",
    "    # Estimated Rt precision tau\n",
    "    tau_R <- {summary_tau['mean'][0]}\n",
    "    \n",
    "    # Serial interval distribution\n",
    "    SI_mu <- {SI_mu}\n",
    "    SI_sd <- {SI_sd}\n",
    "    SI_sh <- SI_mu^2 / SI_sd^2\n",
    "    SI_ra <- SI_mu / SI_sd^2\n",
    "    SI ~ dgamma( SI_sh , SI_ra )\n",
    "    gamma <- 1 / SI\n",
    "    \n",
    "    # First Rt prior\n",
    "    R[1] <- 0\n",
    "    for ( t in 2:T ) {{\n",
    "        # Rt prior for k>0\n",
    "        Rpr[t] ~ dnorm( R[t-1] , tau_R )  T(0,)\n",
    "        # Rt prior for k=0\n",
    "        Rnu[t] ~ dnorm( 0 , tau_R )  T(0,)\n",
    "\n",
    "        # Define Rt prior\n",
    "        R[t] <- ifelse( k[t-1]==0 , Rnu[t] , Rpr[t] )\n",
    "        # Avoid k=0 (undefined Rt)\n",
    "        K[t] <- ifelse( k[t-1]==0, 1 , k[t-1] )\n",
    "\n",
    "        # Poisson likelihood\n",
    "        lambda[t] <- K[t] * exp( gamma * ( R[t] - 1 ) )\n",
    "        y[t] ~ dpois( lambda[t] )\n",
    "    }}\n",
    "}}\n",
    "\"\"\""
   ]
  },
  {
   "cell_type": "code",
   "execution_count": null,
   "metadata": {},
   "outputs": [],
   "source": [
    "model_data_italy = {\n",
    "    \"y\": yit,\n",
    "    \"k\": yit,\n",
    "    \"T\": days.size\n",
    "}"
   ]
  },
  {
   "cell_type": "code",
   "execution_count": null,
   "metadata": {},
   "outputs": [],
   "source": [
    "jags_model_italy = pyjags.Model(\n",
    "    code=modelStringItaly, \n",
    "    data=model_data_italy,\n",
    "    chains=4, \n",
    "    adapt=adapt,\n",
    "    progress_bar=False\n",
    ")\n",
    "\n",
    "jags_posteriors_italy = jags_model_italy.sample(warmup + sample, vars=[\"R\"])"
   ]
  },
  {
   "cell_type": "code",
   "execution_count": null,
   "metadata": {},
   "outputs": [],
   "source": [
    "percs = np.linspace(50, 99, 20)\n",
    "\n",
    "ymax = np.array([])\n",
    "uppers = np.ndarray(shape=(len(percs), days.size))\n",
    "lowers = np.ndarray(shape=(len(percs), days.size))\n",
    "\n",
    "pyjags_data_italy = az.from_pyjags({\"R\": jags_posteriors[\"R\"]}, warmup_iterations=warmup, save_warmup=False)\n",
    "summary = az.summary(pyjags_data_italy, var_names=\"^R\", filter_vars=\"regex\", kind=\"stats\")\n",
    "for i, p in enumerate(percs[::-1]):\n",
    "    upper = np.percentile(pyjags_data_italy.posterior.R, p, axis=1)\n",
    "    upper = np.mean(upper, axis=0)\n",
    "    lower = np.percentile(pyjags_data_italy.posterior.R, 100-p, axis=1)\n",
    "    lower = np.mean(lower, axis=0)\n",
    "    ymax = np.append(ymax, upper.max())\n",
    "    uppers[i] = upper\n",
    "    lowers[i] = lower\n",
    "ymax = ymax.max()\n",
    "\n",
    "        \n",
    "fig, ax = plt.subplots(2, 1, figsize=(15,7))\n",
    "\n",
    "ax[1].plot(days, pos_it_smt, label=\"filtered & smoothed\")\n",
    "ax[1].plot(days, it, 'ok:', lw=1, ms=2, label=\"observed\")\n",
    "ax[1].axhline(0, c=\"k\", alpha=.2)\n",
    "ax[1].set_xlim(days[0], days[-1])\n",
    "ax[1].yaxis.set_ticks_position('both')\n",
    "ax[1].tick_params(labelright=True)\n",
    "ax[1].legend()\n",
    "ax[1].set_title(f\"ITALY new cases per day\")\n",
    "\n",
    "steps = .4/(len(percs)-1)\n",
    "for i, (upper, lower) in enumerate(zip(uppers, lowers)):\n",
    "    alpha = 1-(i*steps)-(.6*np.ceil(i/len(percs)))\n",
    "    ax[0].fill_between(days, np.zeros(lower.size), lower, color=\"w\", alpha=alpha)\n",
    "    ax[0].fill_between(days, upper, np.ones(lower.size)*12, color=\"w\", alpha=alpha)\n",
    "\n",
    "ax[0].plot(days, summary[\"mean\"], c=\"k\", alpha=.25)\n",
    "\n",
    "ax[0].hlines(np.arange(0, 12, .5), days[0], days[-1], color=\"k\", lw=1, alpha=.1)\n",
    "ax[0].axhline(1, c=\"k\", ls=\":\", lw=1)\n",
    "\n",
    "ax[0].fill_between(days, 1, 12, color=\"red\", zorder=0) #, alpha=.2)\n",
    "ax[0].fill_between(days, 0, 1, color=\"green\", zorder=0) #, alpha=.2)\n",
    "\n",
    "ax[0].set_xlim(days[0], days[-1])\n",
    "\n",
    "ax[0].set_title(fr\"ITALY $R_t$ (CIs: {percs[0]:.0f}%-{percs[-1]:.0f}%)\")\n",
    "\n",
    "ax[0].set_ylim(0, ymax)\n",
    "ax[0].yaxis.set_ticks_position('both')\n",
    "ax[0].tick_params(labelright=True)\n",
    "\n",
    "plt.show()\n",
    "plt.close(fig=\"all\")"
   ]
  },
  {
   "cell_type": "markdown",
   "metadata": {},
   "source": [
    "***"
   ]
  },
  {
   "cell_type": "code",
   "execution_count": null,
   "metadata": {},
   "outputs": [],
   "source": [
    "end = dt.datetime.now()\n",
    "print(f\"{end}: Completed in {end - start}\")"
   ]
  },
  {
   "cell_type": "code",
   "execution_count": null,
   "metadata": {},
   "outputs": [],
   "source": []
  }
 ],
 "metadata": {
  "kernelspec": {
   "display_name": "Python 3",
   "language": "python",
   "name": "python3"
  },
  "language_info": {
   "codemirror_mode": {
    "name": "ipython",
    "version": 3
   },
   "file_extension": ".py",
   "mimetype": "text/x-python",
   "name": "python",
   "nbconvert_exporter": "python",
   "pygments_lexer": "ipython3",
   "version": "3.8.5"
  }
 },
 "nbformat": 4,
 "nbformat_minor": 4
}
